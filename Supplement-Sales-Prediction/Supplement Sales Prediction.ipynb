{
 "cells": [
  {
   "cell_type": "code",
   "execution_count": 1,
   "id": "f2d3ccf3",
   "metadata": {},
   "outputs": [],
   "source": [
    "import numpy as np\n",
    "import pandas as pd\n",
    "from sklearn.metrics import mean_squared_error, mean_squared_log_error\n",
    "from xgboost import XGBRegressor"
   ]
  },
  {
   "cell_type": "code",
   "execution_count": 2,
   "id": "14e6d4db",
   "metadata": {},
   "outputs": [],
   "source": [
    "train_data = pd.read_csv(r'C:\\Users\\1449415\\Analytics\\Projects\\AV_hackathon\\Data\\TRAIN.csv', parse_dates=['Date'])\n",
    "test_data = pd.read_csv(r'C:\\Users\\1449415\\Analytics\\Projects\\AV_hackathon\\Data\\TEST_FINAL.csv', parse_dates=['Date'])"
   ]
  },
  {
   "cell_type": "code",
   "execution_count": 3,
   "id": "8c962b9d",
   "metadata": {},
   "outputs": [
    {
     "data": {
      "text/html": [
       "<div>\n",
       "<style scoped>\n",
       "    .dataframe tbody tr th:only-of-type {\n",
       "        vertical-align: middle;\n",
       "    }\n",
       "\n",
       "    .dataframe tbody tr th {\n",
       "        vertical-align: top;\n",
       "    }\n",
       "\n",
       "    .dataframe thead th {\n",
       "        text-align: right;\n",
       "    }\n",
       "</style>\n",
       "<table border=\"1\" class=\"dataframe\">\n",
       "  <thead>\n",
       "    <tr style=\"text-align: right;\">\n",
       "      <th></th>\n",
       "      <th>ID</th>\n",
       "      <th>Store_id</th>\n",
       "      <th>Store_Type</th>\n",
       "      <th>Location_Type</th>\n",
       "      <th>Region_Code</th>\n",
       "      <th>Date</th>\n",
       "      <th>Holiday</th>\n",
       "      <th>Discount</th>\n",
       "      <th>#Order</th>\n",
       "      <th>Sales</th>\n",
       "    </tr>\n",
       "  </thead>\n",
       "  <tbody>\n",
       "    <tr>\n",
       "      <th>0</th>\n",
       "      <td>T1000001</td>\n",
       "      <td>1</td>\n",
       "      <td>S1</td>\n",
       "      <td>L3</td>\n",
       "      <td>R1</td>\n",
       "      <td>2018-01-01</td>\n",
       "      <td>1</td>\n",
       "      <td>Yes</td>\n",
       "      <td>9</td>\n",
       "      <td>7011.84</td>\n",
       "    </tr>\n",
       "    <tr>\n",
       "      <th>1</th>\n",
       "      <td>T1000002</td>\n",
       "      <td>253</td>\n",
       "      <td>S4</td>\n",
       "      <td>L2</td>\n",
       "      <td>R1</td>\n",
       "      <td>2018-01-01</td>\n",
       "      <td>1</td>\n",
       "      <td>Yes</td>\n",
       "      <td>60</td>\n",
       "      <td>51789.12</td>\n",
       "    </tr>\n",
       "    <tr>\n",
       "      <th>2</th>\n",
       "      <td>T1000003</td>\n",
       "      <td>252</td>\n",
       "      <td>S3</td>\n",
       "      <td>L2</td>\n",
       "      <td>R1</td>\n",
       "      <td>2018-01-01</td>\n",
       "      <td>1</td>\n",
       "      <td>Yes</td>\n",
       "      <td>42</td>\n",
       "      <td>36868.20</td>\n",
       "    </tr>\n",
       "    <tr>\n",
       "      <th>3</th>\n",
       "      <td>T1000004</td>\n",
       "      <td>251</td>\n",
       "      <td>S2</td>\n",
       "      <td>L3</td>\n",
       "      <td>R1</td>\n",
       "      <td>2018-01-01</td>\n",
       "      <td>1</td>\n",
       "      <td>Yes</td>\n",
       "      <td>23</td>\n",
       "      <td>19715.16</td>\n",
       "    </tr>\n",
       "    <tr>\n",
       "      <th>4</th>\n",
       "      <td>T1000005</td>\n",
       "      <td>250</td>\n",
       "      <td>S2</td>\n",
       "      <td>L3</td>\n",
       "      <td>R4</td>\n",
       "      <td>2018-01-01</td>\n",
       "      <td>1</td>\n",
       "      <td>Yes</td>\n",
       "      <td>62</td>\n",
       "      <td>45614.52</td>\n",
       "    </tr>\n",
       "  </tbody>\n",
       "</table>\n",
       "</div>"
      ],
      "text/plain": [
       "         ID  Store_id Store_Type Location_Type Region_Code       Date  Holiday Discount  #Order     Sales\n",
       "0  T1000001         1         S1            L3          R1 2018-01-01        1      Yes       9   7011.84\n",
       "1  T1000002       253         S4            L2          R1 2018-01-01        1      Yes      60  51789.12\n",
       "2  T1000003       252         S3            L2          R1 2018-01-01        1      Yes      42  36868.20\n",
       "3  T1000004       251         S2            L3          R1 2018-01-01        1      Yes      23  19715.16\n",
       "4  T1000005       250         S2            L3          R4 2018-01-01        1      Yes      62  45614.52"
      ]
     },
     "execution_count": 3,
     "metadata": {},
     "output_type": "execute_result"
    }
   ],
   "source": [
    "train_data.head()#2018-01-01,2019-05-31"
   ]
  },
  {
   "cell_type": "code",
   "execution_count": 4,
   "id": "45ccdf46",
   "metadata": {},
   "outputs": [
    {
     "data": {
      "text/html": [
       "<div>\n",
       "<style scoped>\n",
       "    .dataframe tbody tr th:only-of-type {\n",
       "        vertical-align: middle;\n",
       "    }\n",
       "\n",
       "    .dataframe tbody tr th {\n",
       "        vertical-align: top;\n",
       "    }\n",
       "\n",
       "    .dataframe thead th {\n",
       "        text-align: right;\n",
       "    }\n",
       "</style>\n",
       "<table border=\"1\" class=\"dataframe\">\n",
       "  <thead>\n",
       "    <tr style=\"text-align: right;\">\n",
       "      <th></th>\n",
       "      <th>ID</th>\n",
       "      <th>Store_id</th>\n",
       "      <th>Store_Type</th>\n",
       "      <th>Location_Type</th>\n",
       "      <th>Region_Code</th>\n",
       "      <th>Date</th>\n",
       "      <th>Holiday</th>\n",
       "      <th>Discount</th>\n",
       "    </tr>\n",
       "  </thead>\n",
       "  <tbody>\n",
       "    <tr>\n",
       "      <th>0</th>\n",
       "      <td>T1188341</td>\n",
       "      <td>171</td>\n",
       "      <td>S4</td>\n",
       "      <td>L2</td>\n",
       "      <td>R3</td>\n",
       "      <td>2019-06-01</td>\n",
       "      <td>0</td>\n",
       "      <td>No</td>\n",
       "    </tr>\n",
       "    <tr>\n",
       "      <th>1</th>\n",
       "      <td>T1188342</td>\n",
       "      <td>172</td>\n",
       "      <td>S1</td>\n",
       "      <td>L1</td>\n",
       "      <td>R1</td>\n",
       "      <td>2019-06-01</td>\n",
       "      <td>0</td>\n",
       "      <td>No</td>\n",
       "    </tr>\n",
       "    <tr>\n",
       "      <th>2</th>\n",
       "      <td>T1188343</td>\n",
       "      <td>173</td>\n",
       "      <td>S4</td>\n",
       "      <td>L2</td>\n",
       "      <td>R1</td>\n",
       "      <td>2019-06-01</td>\n",
       "      <td>0</td>\n",
       "      <td>No</td>\n",
       "    </tr>\n",
       "    <tr>\n",
       "      <th>3</th>\n",
       "      <td>T1188344</td>\n",
       "      <td>174</td>\n",
       "      <td>S1</td>\n",
       "      <td>L1</td>\n",
       "      <td>R4</td>\n",
       "      <td>2019-06-01</td>\n",
       "      <td>0</td>\n",
       "      <td>No</td>\n",
       "    </tr>\n",
       "    <tr>\n",
       "      <th>4</th>\n",
       "      <td>T1188345</td>\n",
       "      <td>170</td>\n",
       "      <td>S1</td>\n",
       "      <td>L1</td>\n",
       "      <td>R2</td>\n",
       "      <td>2019-06-01</td>\n",
       "      <td>0</td>\n",
       "      <td>No</td>\n",
       "    </tr>\n",
       "  </tbody>\n",
       "</table>\n",
       "</div>"
      ],
      "text/plain": [
       "         ID  Store_id Store_Type Location_Type Region_Code       Date  Holiday Discount\n",
       "0  T1188341       171         S4            L2          R3 2019-06-01        0       No\n",
       "1  T1188342       172         S1            L1          R1 2019-06-01        0       No\n",
       "2  T1188343       173         S4            L2          R1 2019-06-01        0       No\n",
       "3  T1188344       174         S1            L1          R4 2019-06-01        0       No\n",
       "4  T1188345       170         S1            L1          R2 2019-06-01        0       No"
      ]
     },
     "execution_count": 4,
     "metadata": {},
     "output_type": "execute_result"
    }
   ],
   "source": [
    "test_data.head()#2019-06-01,2019-07-31"
   ]
  },
  {
   "cell_type": "markdown",
   "id": "ae5793fa",
   "metadata": {},
   "source": [
    "### Max and Min Dates"
   ]
  },
  {
   "cell_type": "code",
   "execution_count": 28,
   "id": "e5694c3b",
   "metadata": {},
   "outputs": [
    {
     "data": {
      "text/plain": [
       "(Timestamp('2018-01-01 00:00:00'), Timestamp('2019-05-31 00:00:00'))"
      ]
     },
     "execution_count": 28,
     "metadata": {},
     "output_type": "execute_result"
    }
   ],
   "source": [
    "train_data['Date'].min(),train_data['Date'].max() # roughly 1.5 year data(daily data)"
   ]
  },
  {
   "cell_type": "code",
   "execution_count": 29,
   "id": "436f8f50",
   "metadata": {},
   "outputs": [
    {
     "data": {
      "text/plain": [
       "(Timestamp('2019-06-01 00:00:00'), Timestamp('2019-07-31 00:00:00'))"
      ]
     },
     "execution_count": 29,
     "metadata": {},
     "output_type": "execute_result"
    }
   ],
   "source": [
    "test_data['Date'].min(),test_data['Date'].max() # to predict 2 months data(daily data)"
   ]
  },
  {
   "cell_type": "code",
   "execution_count": 6,
   "id": "c2677f63",
   "metadata": {
    "scrolled": false
   },
   "outputs": [
    {
     "name": "stdout",
     "output_type": "stream",
     "text": [
      "<class 'pandas.core.frame.DataFrame'>\n",
      "RangeIndex: 188340 entries, 0 to 188339\n",
      "Data columns (total 10 columns):\n",
      " #   Column         Non-Null Count   Dtype         \n",
      "---  ------         --------------   -----         \n",
      " 0   ID             188340 non-null  object        \n",
      " 1   Store_id       188340 non-null  int64         \n",
      " 2   Store_Type     188340 non-null  object        \n",
      " 3   Location_Type  188340 non-null  object        \n",
      " 4   Region_Code    188340 non-null  object        \n",
      " 5   Date           188340 non-null  datetime64[ns]\n",
      " 6   Holiday        188340 non-null  int64         \n",
      " 7   Discount       188340 non-null  object        \n",
      " 8   #Order         188340 non-null  int64         \n",
      " 9   Sales          188340 non-null  float64       \n",
      "dtypes: datetime64[ns](1), float64(1), int64(3), object(5)\n",
      "memory usage: 14.4+ MB\n"
     ]
    }
   ],
   "source": [
    "train_data.info()"
   ]
  },
  {
   "cell_type": "code",
   "execution_count": 7,
   "id": "fca71103",
   "metadata": {
    "scrolled": true
   },
   "outputs": [
    {
     "name": "stdout",
     "output_type": "stream",
     "text": [
      "<class 'pandas.core.frame.DataFrame'>\n",
      "RangeIndex: 22265 entries, 0 to 22264\n",
      "Data columns (total 8 columns):\n",
      " #   Column         Non-Null Count  Dtype         \n",
      "---  ------         --------------  -----         \n",
      " 0   ID             22265 non-null  object        \n",
      " 1   Store_id       22265 non-null  int64         \n",
      " 2   Store_Type     22265 non-null  object        \n",
      " 3   Location_Type  22265 non-null  object        \n",
      " 4   Region_Code    22265 non-null  object        \n",
      " 5   Date           22265 non-null  datetime64[ns]\n",
      " 6   Holiday        22265 non-null  int64         \n",
      " 7   Discount       22265 non-null  object        \n",
      "dtypes: datetime64[ns](1), int64(2), object(5)\n",
      "memory usage: 1.4+ MB\n"
     ]
    }
   ],
   "source": [
    "test_data.info()"
   ]
  },
  {
   "cell_type": "markdown",
   "id": "06061ee2",
   "metadata": {},
   "source": [
    "### Missing Values"
   ]
  },
  {
   "cell_type": "code",
   "execution_count": 8,
   "id": "1c1fc72a",
   "metadata": {},
   "outputs": [
    {
     "data": {
      "text/plain": [
       "ID               0\n",
       "Store_id         0\n",
       "Store_Type       0\n",
       "Location_Type    0\n",
       "Region_Code      0\n",
       "Date             0\n",
       "Holiday          0\n",
       "Discount         0\n",
       "#Order           0\n",
       "Sales            0\n",
       "dtype: int64"
      ]
     },
     "execution_count": 8,
     "metadata": {},
     "output_type": "execute_result"
    }
   ],
   "source": [
    "train_data.isna().sum()"
   ]
  },
  {
   "cell_type": "code",
   "execution_count": 9,
   "id": "67eb7a6b",
   "metadata": {},
   "outputs": [
    {
     "data": {
      "text/plain": [
       "ID               0\n",
       "Store_id         0\n",
       "Store_Type       0\n",
       "Location_Type    0\n",
       "Region_Code      0\n",
       "Date             0\n",
       "Holiday          0\n",
       "Discount         0\n",
       "dtype: int64"
      ]
     },
     "execution_count": 9,
     "metadata": {},
     "output_type": "execute_result"
    }
   ],
   "source": [
    "test_data.isna().sum()"
   ]
  },
  {
   "cell_type": "markdown",
   "id": "a3e8fc67",
   "metadata": {},
   "source": [
    "#### Inference: No missing value treatment required"
   ]
  },
  {
   "cell_type": "code",
   "execution_count": 13,
   "id": "7a81f1ce",
   "metadata": {},
   "outputs": [
    {
     "name": "stdout",
     "output_type": "stream",
     "text": [
      "Store_Type\n",
      "S1    88752\n",
      "S4    45924\n",
      "S2    28896\n",
      "S3    24768\n",
      "Name: Store_Type, dtype: int64\n",
      "Location_Type\n",
      "L1    85140\n",
      "L2    48504\n",
      "L3    29928\n",
      "L5    13932\n",
      "L4    10836\n",
      "Name: Location_Type, dtype: int64\n",
      "Region_Code\n",
      "R1    63984\n",
      "R2    54180\n",
      "R3    44376\n",
      "R4    25800\n",
      "Name: Region_Code, dtype: int64\n"
     ]
    }
   ],
   "source": [
    "lis = ['Store_Type','Location_Type','Region_Code']\n",
    "for i in lis:\n",
    "    print(i)\n",
    "    print(train_data[i].value_counts())"
   ]
  },
  {
   "cell_type": "code",
   "execution_count": 17,
   "id": "6ccc795b",
   "metadata": {},
   "outputs": [
    {
     "data": {
      "text/plain": [
       "Store_Type\n",
       "S4    59945.685926\n",
       "S3    47063.068209\n",
       "S1    37676.511694\n",
       "S2    27530.828222\n",
       "Name: Sales, dtype: float64"
      ]
     },
     "execution_count": 17,
     "metadata": {},
     "output_type": "execute_result"
    }
   ],
   "source": [
    "train_data.groupby('Store_Type')['Sales'].mean().sort_values(ascending=False)"
   ]
  },
  {
   "cell_type": "code",
   "execution_count": 20,
   "id": "d4c9211d",
   "metadata": {},
   "outputs": [
    {
     "data": {
      "text/plain": [
       "Location_Type\n",
       "L2    59231.480373\n",
       "L1    41453.597889\n",
       "L3    33072.257756\n",
       "L4    29067.414313\n",
       "L5    25187.787261\n",
       "Name: Sales, dtype: float64"
      ]
     },
     "execution_count": 20,
     "metadata": {},
     "output_type": "execute_result"
    }
   ],
   "source": [
    "train_data.groupby('Location_Type')['Sales'].mean().sort_values(ascending=False)"
   ]
  },
  {
   "cell_type": "code",
   "execution_count": 21,
   "id": "e8af75be",
   "metadata": {},
   "outputs": [
    {
     "data": {
      "text/plain": [
       "Region_Code\n",
       "R1    46765.488405\n",
       "R3    42144.517063\n",
       "R2    40054.847344\n",
       "R4    39743.434249\n",
       "Name: Sales, dtype: float64"
      ]
     },
     "execution_count": 21,
     "metadata": {},
     "output_type": "execute_result"
    }
   ],
   "source": [
    "train_data.groupby('Region_Code')['Sales'].mean().sort_values(ascending=False)"
   ]
  },
  {
   "cell_type": "code",
   "execution_count": 22,
   "id": "6bb6966a",
   "metadata": {},
   "outputs": [],
   "source": [
    "#Label Encoding Store columns - Train data\n",
    "mapper_store_type = {'S1':3,'S2':4,'S3':2,'S4':1}\n",
    "mapper_location_type = {'L1':4,'L2':5,'L3':3,'L4':2,'L5':1}\n",
    "mapper_region_code = {'R1':4,'R2':2,'R3':3,'R4':1}\n",
    "train_data['Store_Type'] = train_data['Store_Type'].map(mapper_store_type)\n",
    "train_data['Location_Type'] = train_data['Location_Type'].map(mapper_location_type)\n",
    "train_data['Region_Code'] = train_data['Region_Code'].map(mapper_region_code)"
   ]
  },
  {
   "cell_type": "code",
   "execution_count": 23,
   "id": "4417e9d3",
   "metadata": {},
   "outputs": [],
   "source": [
    "#Label Encoding Store columns - Test data\n",
    "test_data['Store_Type'] = test_data['Store_Type'].map(mapper_store_type)\n",
    "test_data['Location_Type'] = test_data['Location_Type'].map(mapper_location_type)\n",
    "test_data['Region_Code'] = test_data['Region_Code'].map(mapper_region_code)"
   ]
  },
  {
   "cell_type": "code",
   "execution_count": 25,
   "id": "d3662461",
   "metadata": {},
   "outputs": [
    {
     "data": {
      "text/html": [
       "<div>\n",
       "<style scoped>\n",
       "    .dataframe tbody tr th:only-of-type {\n",
       "        vertical-align: middle;\n",
       "    }\n",
       "\n",
       "    .dataframe tbody tr th {\n",
       "        vertical-align: top;\n",
       "    }\n",
       "\n",
       "    .dataframe thead th {\n",
       "        text-align: right;\n",
       "    }\n",
       "</style>\n",
       "<table border=\"1\" class=\"dataframe\">\n",
       "  <thead>\n",
       "    <tr style=\"text-align: right;\">\n",
       "      <th></th>\n",
       "      <th>ID</th>\n",
       "      <th>Store_id</th>\n",
       "      <th>Store_Type</th>\n",
       "      <th>Location_Type</th>\n",
       "      <th>Region_Code</th>\n",
       "      <th>Date</th>\n",
       "      <th>Holiday</th>\n",
       "      <th>Discount</th>\n",
       "      <th>#Order</th>\n",
       "      <th>Sales</th>\n",
       "    </tr>\n",
       "  </thead>\n",
       "  <tbody>\n",
       "    <tr>\n",
       "      <th>0</th>\n",
       "      <td>T1000001</td>\n",
       "      <td>1</td>\n",
       "      <td>3</td>\n",
       "      <td>3</td>\n",
       "      <td>4</td>\n",
       "      <td>2018-01-01</td>\n",
       "      <td>1</td>\n",
       "      <td>Yes</td>\n",
       "      <td>9</td>\n",
       "      <td>7011.84</td>\n",
       "    </tr>\n",
       "    <tr>\n",
       "      <th>1</th>\n",
       "      <td>T1000002</td>\n",
       "      <td>253</td>\n",
       "      <td>1</td>\n",
       "      <td>5</td>\n",
       "      <td>4</td>\n",
       "      <td>2018-01-01</td>\n",
       "      <td>1</td>\n",
       "      <td>Yes</td>\n",
       "      <td>60</td>\n",
       "      <td>51789.12</td>\n",
       "    </tr>\n",
       "    <tr>\n",
       "      <th>2</th>\n",
       "      <td>T1000003</td>\n",
       "      <td>252</td>\n",
       "      <td>2</td>\n",
       "      <td>5</td>\n",
       "      <td>4</td>\n",
       "      <td>2018-01-01</td>\n",
       "      <td>1</td>\n",
       "      <td>Yes</td>\n",
       "      <td>42</td>\n",
       "      <td>36868.20</td>\n",
       "    </tr>\n",
       "    <tr>\n",
       "      <th>3</th>\n",
       "      <td>T1000004</td>\n",
       "      <td>251</td>\n",
       "      <td>4</td>\n",
       "      <td>3</td>\n",
       "      <td>4</td>\n",
       "      <td>2018-01-01</td>\n",
       "      <td>1</td>\n",
       "      <td>Yes</td>\n",
       "      <td>23</td>\n",
       "      <td>19715.16</td>\n",
       "    </tr>\n",
       "    <tr>\n",
       "      <th>4</th>\n",
       "      <td>T1000005</td>\n",
       "      <td>250</td>\n",
       "      <td>4</td>\n",
       "      <td>3</td>\n",
       "      <td>1</td>\n",
       "      <td>2018-01-01</td>\n",
       "      <td>1</td>\n",
       "      <td>Yes</td>\n",
       "      <td>62</td>\n",
       "      <td>45614.52</td>\n",
       "    </tr>\n",
       "  </tbody>\n",
       "</table>\n",
       "</div>"
      ],
      "text/plain": [
       "         ID  Store_id  Store_Type  Location_Type  Region_Code       Date  Holiday Discount  #Order     Sales\n",
       "0  T1000001         1           3              3            4 2018-01-01        1      Yes       9   7011.84\n",
       "1  T1000002       253           1              5            4 2018-01-01        1      Yes      60  51789.12\n",
       "2  T1000003       252           2              5            4 2018-01-01        1      Yes      42  36868.20\n",
       "3  T1000004       251           4              3            4 2018-01-01        1      Yes      23  19715.16\n",
       "4  T1000005       250           4              3            1 2018-01-01        1      Yes      62  45614.52"
      ]
     },
     "execution_count": 25,
     "metadata": {},
     "output_type": "execute_result"
    }
   ],
   "source": [
    "train_data.head()"
   ]
  },
  {
   "cell_type": "code",
   "execution_count": 26,
   "id": "c9142c19",
   "metadata": {},
   "outputs": [
    {
     "data": {
      "text/html": [
       "<div>\n",
       "<style scoped>\n",
       "    .dataframe tbody tr th:only-of-type {\n",
       "        vertical-align: middle;\n",
       "    }\n",
       "\n",
       "    .dataframe tbody tr th {\n",
       "        vertical-align: top;\n",
       "    }\n",
       "\n",
       "    .dataframe thead th {\n",
       "        text-align: right;\n",
       "    }\n",
       "</style>\n",
       "<table border=\"1\" class=\"dataframe\">\n",
       "  <thead>\n",
       "    <tr style=\"text-align: right;\">\n",
       "      <th></th>\n",
       "      <th>ID</th>\n",
       "      <th>Store_id</th>\n",
       "      <th>Store_Type</th>\n",
       "      <th>Location_Type</th>\n",
       "      <th>Region_Code</th>\n",
       "      <th>Date</th>\n",
       "      <th>Holiday</th>\n",
       "      <th>Discount</th>\n",
       "    </tr>\n",
       "  </thead>\n",
       "  <tbody>\n",
       "    <tr>\n",
       "      <th>0</th>\n",
       "      <td>T1188341</td>\n",
       "      <td>171</td>\n",
       "      <td>1</td>\n",
       "      <td>5</td>\n",
       "      <td>3</td>\n",
       "      <td>2019-06-01</td>\n",
       "      <td>0</td>\n",
       "      <td>No</td>\n",
       "    </tr>\n",
       "    <tr>\n",
       "      <th>1</th>\n",
       "      <td>T1188342</td>\n",
       "      <td>172</td>\n",
       "      <td>3</td>\n",
       "      <td>4</td>\n",
       "      <td>4</td>\n",
       "      <td>2019-06-01</td>\n",
       "      <td>0</td>\n",
       "      <td>No</td>\n",
       "    </tr>\n",
       "    <tr>\n",
       "      <th>2</th>\n",
       "      <td>T1188343</td>\n",
       "      <td>173</td>\n",
       "      <td>1</td>\n",
       "      <td>5</td>\n",
       "      <td>4</td>\n",
       "      <td>2019-06-01</td>\n",
       "      <td>0</td>\n",
       "      <td>No</td>\n",
       "    </tr>\n",
       "    <tr>\n",
       "      <th>3</th>\n",
       "      <td>T1188344</td>\n",
       "      <td>174</td>\n",
       "      <td>3</td>\n",
       "      <td>4</td>\n",
       "      <td>1</td>\n",
       "      <td>2019-06-01</td>\n",
       "      <td>0</td>\n",
       "      <td>No</td>\n",
       "    </tr>\n",
       "    <tr>\n",
       "      <th>4</th>\n",
       "      <td>T1188345</td>\n",
       "      <td>170</td>\n",
       "      <td>3</td>\n",
       "      <td>4</td>\n",
       "      <td>2</td>\n",
       "      <td>2019-06-01</td>\n",
       "      <td>0</td>\n",
       "      <td>No</td>\n",
       "    </tr>\n",
       "  </tbody>\n",
       "</table>\n",
       "</div>"
      ],
      "text/plain": [
       "         ID  Store_id  Store_Type  Location_Type  Region_Code       Date  Holiday Discount\n",
       "0  T1188341       171           1              5            3 2019-06-01        0       No\n",
       "1  T1188342       172           3              4            4 2019-06-01        0       No\n",
       "2  T1188343       173           1              5            4 2019-06-01        0       No\n",
       "3  T1188344       174           3              4            1 2019-06-01        0       No\n",
       "4  T1188345       170           3              4            2 2019-06-01        0       No"
      ]
     },
     "execution_count": 26,
     "metadata": {},
     "output_type": "execute_result"
    }
   ],
   "source": [
    "test_data.head()"
   ]
  },
  {
   "cell_type": "markdown",
   "id": "88613d5a",
   "metadata": {},
   "source": [
    "### Make dates as indexes"
   ]
  },
  {
   "cell_type": "code",
   "execution_count": 31,
   "id": "7c089413",
   "metadata": {},
   "outputs": [],
   "source": [
    "train_data.set_index('Date',inplace=True)\n",
    "test_data.set_index('Date',inplace=True)"
   ]
  },
  {
   "cell_type": "code",
   "execution_count": 32,
   "id": "7404fa2e",
   "metadata": {
    "scrolled": true
   },
   "outputs": [
    {
     "data": {
      "text/html": [
       "<div>\n",
       "<style scoped>\n",
       "    .dataframe tbody tr th:only-of-type {\n",
       "        vertical-align: middle;\n",
       "    }\n",
       "\n",
       "    .dataframe tbody tr th {\n",
       "        vertical-align: top;\n",
       "    }\n",
       "\n",
       "    .dataframe thead th {\n",
       "        text-align: right;\n",
       "    }\n",
       "</style>\n",
       "<table border=\"1\" class=\"dataframe\">\n",
       "  <thead>\n",
       "    <tr style=\"text-align: right;\">\n",
       "      <th></th>\n",
       "      <th>ID</th>\n",
       "      <th>Store_id</th>\n",
       "      <th>Store_Type</th>\n",
       "      <th>Location_Type</th>\n",
       "      <th>Region_Code</th>\n",
       "      <th>Holiday</th>\n",
       "      <th>Discount</th>\n",
       "      <th>#Order</th>\n",
       "      <th>Sales</th>\n",
       "    </tr>\n",
       "    <tr>\n",
       "      <th>Date</th>\n",
       "      <th></th>\n",
       "      <th></th>\n",
       "      <th></th>\n",
       "      <th></th>\n",
       "      <th></th>\n",
       "      <th></th>\n",
       "      <th></th>\n",
       "      <th></th>\n",
       "      <th></th>\n",
       "    </tr>\n",
       "  </thead>\n",
       "  <tbody>\n",
       "    <tr>\n",
       "      <th>2018-01-01</th>\n",
       "      <td>T1000001</td>\n",
       "      <td>1</td>\n",
       "      <td>3</td>\n",
       "      <td>3</td>\n",
       "      <td>4</td>\n",
       "      <td>1</td>\n",
       "      <td>Yes</td>\n",
       "      <td>9</td>\n",
       "      <td>7011.84</td>\n",
       "    </tr>\n",
       "    <tr>\n",
       "      <th>2018-01-01</th>\n",
       "      <td>T1000002</td>\n",
       "      <td>253</td>\n",
       "      <td>1</td>\n",
       "      <td>5</td>\n",
       "      <td>4</td>\n",
       "      <td>1</td>\n",
       "      <td>Yes</td>\n",
       "      <td>60</td>\n",
       "      <td>51789.12</td>\n",
       "    </tr>\n",
       "    <tr>\n",
       "      <th>2018-01-01</th>\n",
       "      <td>T1000003</td>\n",
       "      <td>252</td>\n",
       "      <td>2</td>\n",
       "      <td>5</td>\n",
       "      <td>4</td>\n",
       "      <td>1</td>\n",
       "      <td>Yes</td>\n",
       "      <td>42</td>\n",
       "      <td>36868.20</td>\n",
       "    </tr>\n",
       "    <tr>\n",
       "      <th>2018-01-01</th>\n",
       "      <td>T1000004</td>\n",
       "      <td>251</td>\n",
       "      <td>4</td>\n",
       "      <td>3</td>\n",
       "      <td>4</td>\n",
       "      <td>1</td>\n",
       "      <td>Yes</td>\n",
       "      <td>23</td>\n",
       "      <td>19715.16</td>\n",
       "    </tr>\n",
       "    <tr>\n",
       "      <th>2018-01-01</th>\n",
       "      <td>T1000005</td>\n",
       "      <td>250</td>\n",
       "      <td>4</td>\n",
       "      <td>3</td>\n",
       "      <td>1</td>\n",
       "      <td>1</td>\n",
       "      <td>Yes</td>\n",
       "      <td>62</td>\n",
       "      <td>45614.52</td>\n",
       "    </tr>\n",
       "  </tbody>\n",
       "</table>\n",
       "</div>"
      ],
      "text/plain": [
       "                  ID  Store_id  Store_Type  Location_Type  Region_Code  Holiday Discount  #Order     Sales\n",
       "Date                                                                                                      \n",
       "2018-01-01  T1000001         1           3              3            4        1      Yes       9   7011.84\n",
       "2018-01-01  T1000002       253           1              5            4        1      Yes      60  51789.12\n",
       "2018-01-01  T1000003       252           2              5            4        1      Yes      42  36868.20\n",
       "2018-01-01  T1000004       251           4              3            4        1      Yes      23  19715.16\n",
       "2018-01-01  T1000005       250           4              3            1        1      Yes      62  45614.52"
      ]
     },
     "execution_count": 32,
     "metadata": {},
     "output_type": "execute_result"
    }
   ],
   "source": [
    "train_data.head()"
   ]
  },
  {
   "cell_type": "code",
   "execution_count": null,
   "id": "5c1a02fc",
   "metadata": {},
   "outputs": [],
   "source": []
  },
  {
   "cell_type": "code",
   "execution_count": 33,
   "id": "6bc10832",
   "metadata": {},
   "outputs": [
    {
     "data": {
      "text/html": [
       "<div>\n",
       "<style scoped>\n",
       "    .dataframe tbody tr th:only-of-type {\n",
       "        vertical-align: middle;\n",
       "    }\n",
       "\n",
       "    .dataframe tbody tr th {\n",
       "        vertical-align: top;\n",
       "    }\n",
       "\n",
       "    .dataframe thead th {\n",
       "        text-align: right;\n",
       "    }\n",
       "</style>\n",
       "<table border=\"1\" class=\"dataframe\">\n",
       "  <thead>\n",
       "    <tr style=\"text-align: right;\">\n",
       "      <th></th>\n",
       "      <th>ID</th>\n",
       "      <th>Store_id</th>\n",
       "      <th>Store_Type</th>\n",
       "      <th>Location_Type</th>\n",
       "      <th>Region_Code</th>\n",
       "      <th>Holiday</th>\n",
       "      <th>Discount</th>\n",
       "    </tr>\n",
       "    <tr>\n",
       "      <th>Date</th>\n",
       "      <th></th>\n",
       "      <th></th>\n",
       "      <th></th>\n",
       "      <th></th>\n",
       "      <th></th>\n",
       "      <th></th>\n",
       "      <th></th>\n",
       "    </tr>\n",
       "  </thead>\n",
       "  <tbody>\n",
       "    <tr>\n",
       "      <th>2019-06-01</th>\n",
       "      <td>T1188341</td>\n",
       "      <td>171</td>\n",
       "      <td>1</td>\n",
       "      <td>5</td>\n",
       "      <td>3</td>\n",
       "      <td>0</td>\n",
       "      <td>No</td>\n",
       "    </tr>\n",
       "    <tr>\n",
       "      <th>2019-06-01</th>\n",
       "      <td>T1188342</td>\n",
       "      <td>172</td>\n",
       "      <td>3</td>\n",
       "      <td>4</td>\n",
       "      <td>4</td>\n",
       "      <td>0</td>\n",
       "      <td>No</td>\n",
       "    </tr>\n",
       "    <tr>\n",
       "      <th>2019-06-01</th>\n",
       "      <td>T1188343</td>\n",
       "      <td>173</td>\n",
       "      <td>1</td>\n",
       "      <td>5</td>\n",
       "      <td>4</td>\n",
       "      <td>0</td>\n",
       "      <td>No</td>\n",
       "    </tr>\n",
       "    <tr>\n",
       "      <th>2019-06-01</th>\n",
       "      <td>T1188344</td>\n",
       "      <td>174</td>\n",
       "      <td>3</td>\n",
       "      <td>4</td>\n",
       "      <td>1</td>\n",
       "      <td>0</td>\n",
       "      <td>No</td>\n",
       "    </tr>\n",
       "    <tr>\n",
       "      <th>2019-06-01</th>\n",
       "      <td>T1188345</td>\n",
       "      <td>170</td>\n",
       "      <td>3</td>\n",
       "      <td>4</td>\n",
       "      <td>2</td>\n",
       "      <td>0</td>\n",
       "      <td>No</td>\n",
       "    </tr>\n",
       "  </tbody>\n",
       "</table>\n",
       "</div>"
      ],
      "text/plain": [
       "                  ID  Store_id  Store_Type  Location_Type  Region_Code  Holiday Discount\n",
       "Date                                                                                    \n",
       "2019-06-01  T1188341       171           1              5            3        0       No\n",
       "2019-06-01  T1188342       172           3              4            4        0       No\n",
       "2019-06-01  T1188343       173           1              5            4        0       No\n",
       "2019-06-01  T1188344       174           3              4            1        0       No\n",
       "2019-06-01  T1188345       170           3              4            2        0       No"
      ]
     },
     "execution_count": 33,
     "metadata": {},
     "output_type": "execute_result"
    }
   ],
   "source": [
    "test_data.head()"
   ]
  },
  {
   "cell_type": "code",
   "execution_count": 52,
   "id": "1e3bdb22",
   "metadata": {},
   "outputs": [
    {
     "name": "stdout",
     "output_type": "stream",
     "text": [
      "<class 'pandas.core.frame.DataFrame'>\n",
      "DatetimeIndex: 188340 entries, 2018-01-01 to 2019-05-31\n",
      "Data columns (total 9 columns):\n",
      " #   Column         Non-Null Count   Dtype  \n",
      "---  ------         --------------   -----  \n",
      " 0   ID             188340 non-null  object \n",
      " 1   Store_id       188340 non-null  int64  \n",
      " 2   Store_Type     188340 non-null  int64  \n",
      " 3   Location_Type  188340 non-null  int64  \n",
      " 4   Region_Code    188340 non-null  int64  \n",
      " 5   Holiday        188340 non-null  int64  \n",
      " 6   Discount       188340 non-null  object \n",
      " 7   #Order         188340 non-null  int64  \n",
      " 8   Sales          188340 non-null  float64\n",
      "dtypes: float64(1), int64(6), object(2)\n",
      "memory usage: 18.4+ MB\n"
     ]
    }
   ],
   "source": [
    "train_data.info()"
   ]
  },
  {
   "cell_type": "code",
   "execution_count": 67,
   "id": "7b64e514",
   "metadata": {},
   "outputs": [],
   "source": [
    "## Discount is still categorical let's do One Hot Encoding for it using pandas get_dummies()\n",
    "train_data=pd.get_dummies(train_data,columns=['Discount'],drop_first=True)\n",
    "test_data=pd.get_dummies(test_data,columns=['Discount'],drop_first=True)"
   ]
  },
  {
   "cell_type": "code",
   "execution_count": 54,
   "id": "ec4a0bd7",
   "metadata": {},
   "outputs": [
    {
     "data": {
      "text/plain": [
       "Index(['ID', 'Store_id', 'Store_Type', 'Location_Type', 'Region_Code',\n",
       "       'Holiday', '#Order', 'Sales', 'Discount_No', 'Discount_Yes'],\n",
       "      dtype='object')"
      ]
     },
     "execution_count": 54,
     "metadata": {},
     "output_type": "execute_result"
    }
   ],
   "source": [
    "train_data.columns"
   ]
  },
  {
   "cell_type": "code",
   "execution_count": 70,
   "id": "f6331850",
   "metadata": {
    "scrolled": true
   },
   "outputs": [
    {
     "data": {
      "text/html": [
       "<div>\n",
       "<style scoped>\n",
       "    .dataframe tbody tr th:only-of-type {\n",
       "        vertical-align: middle;\n",
       "    }\n",
       "\n",
       "    .dataframe tbody tr th {\n",
       "        vertical-align: top;\n",
       "    }\n",
       "\n",
       "    .dataframe thead th {\n",
       "        text-align: right;\n",
       "    }\n",
       "</style>\n",
       "<table border=\"1\" class=\"dataframe\">\n",
       "  <thead>\n",
       "    <tr style=\"text-align: right;\">\n",
       "      <th></th>\n",
       "      <th>ID</th>\n",
       "      <th>Store_id</th>\n",
       "      <th>Store_Type</th>\n",
       "      <th>Location_Type</th>\n",
       "      <th>Region_Code</th>\n",
       "      <th>Holiday</th>\n",
       "      <th>#Order</th>\n",
       "      <th>Sales</th>\n",
       "      <th>Discount_Yes</th>\n",
       "    </tr>\n",
       "    <tr>\n",
       "      <th>Date</th>\n",
       "      <th></th>\n",
       "      <th></th>\n",
       "      <th></th>\n",
       "      <th></th>\n",
       "      <th></th>\n",
       "      <th></th>\n",
       "      <th></th>\n",
       "      <th></th>\n",
       "      <th></th>\n",
       "    </tr>\n",
       "  </thead>\n",
       "  <tbody>\n",
       "    <tr>\n",
       "      <th>2018-01-01</th>\n",
       "      <td>T1000001</td>\n",
       "      <td>1</td>\n",
       "      <td>3</td>\n",
       "      <td>3</td>\n",
       "      <td>4</td>\n",
       "      <td>1</td>\n",
       "      <td>9</td>\n",
       "      <td>7011.84</td>\n",
       "      <td>1</td>\n",
       "    </tr>\n",
       "    <tr>\n",
       "      <th>2018-01-01</th>\n",
       "      <td>T1000002</td>\n",
       "      <td>253</td>\n",
       "      <td>1</td>\n",
       "      <td>5</td>\n",
       "      <td>4</td>\n",
       "      <td>1</td>\n",
       "      <td>60</td>\n",
       "      <td>51789.12</td>\n",
       "      <td>1</td>\n",
       "    </tr>\n",
       "    <tr>\n",
       "      <th>2018-01-01</th>\n",
       "      <td>T1000003</td>\n",
       "      <td>252</td>\n",
       "      <td>2</td>\n",
       "      <td>5</td>\n",
       "      <td>4</td>\n",
       "      <td>1</td>\n",
       "      <td>42</td>\n",
       "      <td>36868.20</td>\n",
       "      <td>1</td>\n",
       "    </tr>\n",
       "    <tr>\n",
       "      <th>2018-01-01</th>\n",
       "      <td>T1000004</td>\n",
       "      <td>251</td>\n",
       "      <td>4</td>\n",
       "      <td>3</td>\n",
       "      <td>4</td>\n",
       "      <td>1</td>\n",
       "      <td>23</td>\n",
       "      <td>19715.16</td>\n",
       "      <td>1</td>\n",
       "    </tr>\n",
       "    <tr>\n",
       "      <th>2018-01-01</th>\n",
       "      <td>T1000005</td>\n",
       "      <td>250</td>\n",
       "      <td>4</td>\n",
       "      <td>3</td>\n",
       "      <td>1</td>\n",
       "      <td>1</td>\n",
       "      <td>62</td>\n",
       "      <td>45614.52</td>\n",
       "      <td>1</td>\n",
       "    </tr>\n",
       "  </tbody>\n",
       "</table>\n",
       "</div>"
      ],
      "text/plain": [
       "                  ID  Store_id  Store_Type  Location_Type  Region_Code  Holiday  #Order     Sales  Discount_Yes\n",
       "Date                                                                                                           \n",
       "2018-01-01  T1000001         1           3              3            4        1       9   7011.84             1\n",
       "2018-01-01  T1000002       253           1              5            4        1      60  51789.12             1\n",
       "2018-01-01  T1000003       252           2              5            4        1      42  36868.20             1\n",
       "2018-01-01  T1000004       251           4              3            4        1      23  19715.16             1\n",
       "2018-01-01  T1000005       250           4              3            1        1      62  45614.52             1"
      ]
     },
     "execution_count": 70,
     "metadata": {},
     "output_type": "execute_result"
    }
   ],
   "source": [
    "train_data.head()"
   ]
  },
  {
   "cell_type": "code",
   "execution_count": 71,
   "id": "4498d446",
   "metadata": {},
   "outputs": [
    {
     "data": {
      "text/html": [
       "<div>\n",
       "<style scoped>\n",
       "    .dataframe tbody tr th:only-of-type {\n",
       "        vertical-align: middle;\n",
       "    }\n",
       "\n",
       "    .dataframe tbody tr th {\n",
       "        vertical-align: top;\n",
       "    }\n",
       "\n",
       "    .dataframe thead th {\n",
       "        text-align: right;\n",
       "    }\n",
       "</style>\n",
       "<table border=\"1\" class=\"dataframe\">\n",
       "  <thead>\n",
       "    <tr style=\"text-align: right;\">\n",
       "      <th></th>\n",
       "      <th>ID</th>\n",
       "      <th>Store_id</th>\n",
       "      <th>Store_Type</th>\n",
       "      <th>Location_Type</th>\n",
       "      <th>Region_Code</th>\n",
       "      <th>Holiday</th>\n",
       "      <th>Discount_Yes</th>\n",
       "    </tr>\n",
       "    <tr>\n",
       "      <th>Date</th>\n",
       "      <th></th>\n",
       "      <th></th>\n",
       "      <th></th>\n",
       "      <th></th>\n",
       "      <th></th>\n",
       "      <th></th>\n",
       "      <th></th>\n",
       "    </tr>\n",
       "  </thead>\n",
       "  <tbody>\n",
       "    <tr>\n",
       "      <th>2019-06-01</th>\n",
       "      <td>T1188341</td>\n",
       "      <td>171</td>\n",
       "      <td>1</td>\n",
       "      <td>5</td>\n",
       "      <td>3</td>\n",
       "      <td>0</td>\n",
       "      <td>0</td>\n",
       "    </tr>\n",
       "    <tr>\n",
       "      <th>2019-06-01</th>\n",
       "      <td>T1188342</td>\n",
       "      <td>172</td>\n",
       "      <td>3</td>\n",
       "      <td>4</td>\n",
       "      <td>4</td>\n",
       "      <td>0</td>\n",
       "      <td>0</td>\n",
       "    </tr>\n",
       "    <tr>\n",
       "      <th>2019-06-01</th>\n",
       "      <td>T1188343</td>\n",
       "      <td>173</td>\n",
       "      <td>1</td>\n",
       "      <td>5</td>\n",
       "      <td>4</td>\n",
       "      <td>0</td>\n",
       "      <td>0</td>\n",
       "    </tr>\n",
       "    <tr>\n",
       "      <th>2019-06-01</th>\n",
       "      <td>T1188344</td>\n",
       "      <td>174</td>\n",
       "      <td>3</td>\n",
       "      <td>4</td>\n",
       "      <td>1</td>\n",
       "      <td>0</td>\n",
       "      <td>0</td>\n",
       "    </tr>\n",
       "    <tr>\n",
       "      <th>2019-06-01</th>\n",
       "      <td>T1188345</td>\n",
       "      <td>170</td>\n",
       "      <td>3</td>\n",
       "      <td>4</td>\n",
       "      <td>2</td>\n",
       "      <td>0</td>\n",
       "      <td>0</td>\n",
       "    </tr>\n",
       "  </tbody>\n",
       "</table>\n",
       "</div>"
      ],
      "text/plain": [
       "                  ID  Store_id  Store_Type  Location_Type  Region_Code  Holiday  Discount_Yes\n",
       "Date                                                                                         \n",
       "2019-06-01  T1188341       171           1              5            3        0             0\n",
       "2019-06-01  T1188342       172           3              4            4        0             0\n",
       "2019-06-01  T1188343       173           1              5            4        0             0\n",
       "2019-06-01  T1188344       174           3              4            1        0             0\n",
       "2019-06-01  T1188345       170           3              4            2        0             0"
      ]
     },
     "execution_count": 71,
     "metadata": {},
     "output_type": "execute_result"
    }
   ],
   "source": [
    "test_data.head()"
   ]
  },
  {
   "cell_type": "code",
   "execution_count": 72,
   "id": "51fd4a50",
   "metadata": {},
   "outputs": [],
   "source": [
    "X_train = train_data[:'2019-03-01 00:00:00'].drop(columns=['ID','#Order','Sales'])\n",
    "Y_train = train_data['Sales'][:'2019-03-01 00:00:00']\n",
    "X_val = train_data['2019-03-01 00:00:00':].drop(columns=['ID','#Order','Sales'])\n",
    "Y_val = train_data['Sales']['2019-03-01 00:00:00':]"
   ]
  },
  {
   "cell_type": "code",
   "execution_count": 73,
   "id": "66803fe2",
   "metadata": {},
   "outputs": [
    {
     "data": {
      "text/plain": [
       "(Timestamp('2019-03-01 00:00:00'), Timestamp('2018-01-01 00:00:00'))"
      ]
     },
     "execution_count": 73,
     "metadata": {},
     "output_type": "execute_result"
    }
   ],
   "source": [
    "X_train.index.max(),X_train.index.min()"
   ]
  },
  {
   "cell_type": "code",
   "execution_count": 74,
   "id": "0b292936",
   "metadata": {},
   "outputs": [
    {
     "data": {
      "text/plain": [
       "(Timestamp('2019-05-31 00:00:00'), Timestamp('2019-03-01 00:00:00'))"
      ]
     },
     "execution_count": 74,
     "metadata": {},
     "output_type": "execute_result"
    }
   ],
   "source": [
    "X_val.index.max(),X_val.index.min()"
   ]
  },
  {
   "cell_type": "code",
   "execution_count": 75,
   "id": "f62abee5",
   "metadata": {},
   "outputs": [
    {
     "data": {
      "text/plain": [
       "Index(['Store_id', 'Store_Type', 'Location_Type', 'Region_Code', 'Holiday',\n",
       "       'Discount_Yes'],\n",
       "      dtype='object')"
      ]
     },
     "execution_count": 75,
     "metadata": {},
     "output_type": "execute_result"
    }
   ],
   "source": [
    "X_train.columns"
   ]
  },
  {
   "cell_type": "code",
   "execution_count": null,
   "id": "18c72f5b",
   "metadata": {},
   "outputs": [],
   "source": []
  },
  {
   "cell_type": "markdown",
   "id": "d52907c3",
   "metadata": {},
   "source": [
    "### XGBoost Training"
   ]
  },
  {
   "cell_type": "code",
   "execution_count": 80,
   "id": "0817e117",
   "metadata": {},
   "outputs": [],
   "source": [
    "xgb = XGBRegressor(n_estimators = 1000, objective='reg:linear')"
   ]
  },
  {
   "cell_type": "code",
   "execution_count": 81,
   "id": "5aa09324",
   "metadata": {},
   "outputs": [
    {
     "name": "stdout",
     "output_type": "stream",
     "text": [
      "[22:56:46] WARNING: C:/Users/Administrator/workspace/xgboost-win64_release_1.4.0/src/objective/regression_obj.cu:171: reg:linear is now deprecated in favor of reg:squarederror.\n",
      "[0]\tvalidation_0-rmse:33438.21094\tvalidation_1-rmse:35685.08594\n",
      "[1]\tvalidation_0-rmse:24854.67773\tvalidation_1-rmse:27390.40234\n",
      "[2]\tvalidation_0-rmse:19287.74023\tvalidation_1-rmse:22036.78711\n",
      "[3]\tvalidation_0-rmse:15763.37598\tvalidation_1-rmse:18628.84570\n",
      "[4]\tvalidation_0-rmse:13702.67481\tvalidation_1-rmse:16610.39648\n",
      "[5]\tvalidation_0-rmse:12490.86426\tvalidation_1-rmse:15360.26074\n",
      "[6]\tvalidation_0-rmse:11832.15137\tvalidation_1-rmse:14641.51269\n",
      "[7]\tvalidation_0-rmse:11393.06348\tvalidation_1-rmse:14146.65820\n",
      "[8]\tvalidation_0-rmse:11167.28516\tvalidation_1-rmse:13884.40039\n",
      "[9]\tvalidation_0-rmse:11057.28027\tvalidation_1-rmse:13727.93750\n",
      "[10]\tvalidation_0-rmse:10970.16504\tvalidation_1-rmse:13598.69727\n",
      "[11]\tvalidation_0-rmse:10877.75879\tvalidation_1-rmse:13494.68457\n",
      "[12]\tvalidation_0-rmse:10830.09863\tvalidation_1-rmse:13428.05664\n",
      "[13]\tvalidation_0-rmse:10789.72168\tvalidation_1-rmse:13388.90039\n",
      "[14]\tvalidation_0-rmse:10756.70996\tvalidation_1-rmse:13352.29492\n",
      "[15]\tvalidation_0-rmse:10732.78125\tvalidation_1-rmse:13334.45801\n",
      "[16]\tvalidation_0-rmse:10714.98242\tvalidation_1-rmse:13318.02637\n",
      "[17]\tvalidation_0-rmse:10707.02441\tvalidation_1-rmse:13311.25098\n",
      "[18]\tvalidation_0-rmse:10682.25684\tvalidation_1-rmse:13288.61426\n",
      "[19]\tvalidation_0-rmse:10667.33496\tvalidation_1-rmse:13278.96777\n",
      "[20]\tvalidation_0-rmse:10652.12695\tvalidation_1-rmse:13265.91016\n",
      "[21]\tvalidation_0-rmse:10640.97363\tvalidation_1-rmse:13260.26856\n",
      "[22]\tvalidation_0-rmse:10629.76465\tvalidation_1-rmse:13252.51953\n",
      "[23]\tvalidation_0-rmse:10609.00195\tvalidation_1-rmse:13232.25293\n",
      "[24]\tvalidation_0-rmse:10581.76856\tvalidation_1-rmse:13203.19043\n",
      "[25]\tvalidation_0-rmse:10576.75391\tvalidation_1-rmse:13201.93750\n",
      "[26]\tvalidation_0-rmse:10564.15137\tvalidation_1-rmse:13192.34570\n",
      "[27]\tvalidation_0-rmse:10550.11426\tvalidation_1-rmse:13186.13086\n",
      "[28]\tvalidation_0-rmse:10534.92871\tvalidation_1-rmse:13177.25977\n",
      "[29]\tvalidation_0-rmse:10523.72461\tvalidation_1-rmse:13166.60742\n",
      "[30]\tvalidation_0-rmse:10504.99121\tvalidation_1-rmse:13148.07812\n",
      "[31]\tvalidation_0-rmse:10499.65820\tvalidation_1-rmse:13149.72852\n",
      "[32]\tvalidation_0-rmse:10497.74805\tvalidation_1-rmse:13148.75488\n",
      "[33]\tvalidation_0-rmse:10489.09375\tvalidation_1-rmse:13146.22168\n",
      "[34]\tvalidation_0-rmse:10475.25781\tvalidation_1-rmse:13132.00098\n",
      "[35]\tvalidation_0-rmse:10461.98926\tvalidation_1-rmse:13119.13379\n",
      "[36]\tvalidation_0-rmse:10453.73731\tvalidation_1-rmse:13112.57129\n",
      "[37]\tvalidation_0-rmse:10447.37207\tvalidation_1-rmse:13108.93945\n",
      "[38]\tvalidation_0-rmse:10442.33594\tvalidation_1-rmse:13105.50293\n",
      "[39]\tvalidation_0-rmse:10435.98242\tvalidation_1-rmse:13099.21582\n",
      "[40]\tvalidation_0-rmse:10431.82910\tvalidation_1-rmse:13098.68652\n",
      "[41]\tvalidation_0-rmse:10429.04981\tvalidation_1-rmse:13099.71973\n",
      "[42]\tvalidation_0-rmse:10424.57324\tvalidation_1-rmse:13097.06152\n",
      "[43]\tvalidation_0-rmse:10419.41309\tvalidation_1-rmse:13096.00586\n",
      "[44]\tvalidation_0-rmse:10416.13574\tvalidation_1-rmse:13096.92383\n",
      "[45]\tvalidation_0-rmse:10411.39941\tvalidation_1-rmse:13093.07519\n",
      "[46]\tvalidation_0-rmse:10402.75098\tvalidation_1-rmse:13082.78516\n",
      "[47]\tvalidation_0-rmse:10401.82519\tvalidation_1-rmse:13082.87598\n",
      "[48]\tvalidation_0-rmse:10397.25586\tvalidation_1-rmse:13077.76953\n",
      "[49]\tvalidation_0-rmse:10392.74512\tvalidation_1-rmse:13075.77148\n",
      "[50]\tvalidation_0-rmse:10390.03418\tvalidation_1-rmse:13072.80176\n",
      "[51]\tvalidation_0-rmse:10388.89746\tvalidation_1-rmse:13072.41894\n",
      "[52]\tvalidation_0-rmse:10388.23731\tvalidation_1-rmse:13072.53320\n",
      "[53]\tvalidation_0-rmse:10385.39941\tvalidation_1-rmse:13071.06836\n",
      "[54]\tvalidation_0-rmse:10384.87695\tvalidation_1-rmse:13071.89258\n",
      "[55]\tvalidation_0-rmse:10384.21582\tvalidation_1-rmse:13071.75391\n",
      "[56]\tvalidation_0-rmse:10383.54785\tvalidation_1-rmse:13072.83691\n",
      "[57]\tvalidation_0-rmse:10380.94141\tvalidation_1-rmse:13071.50781\n",
      "[58]\tvalidation_0-rmse:10379.38574\tvalidation_1-rmse:13070.62402\n",
      "[59]\tvalidation_0-rmse:10371.77441\tvalidation_1-rmse:13062.41406\n",
      "[60]\tvalidation_0-rmse:10369.15430\tvalidation_1-rmse:13061.20215\n",
      "[61]\tvalidation_0-rmse:10366.49805\tvalidation_1-rmse:13057.80957\n",
      "[62]\tvalidation_0-rmse:10364.92188\tvalidation_1-rmse:13057.27148\n",
      "[63]\tvalidation_0-rmse:10363.52148\tvalidation_1-rmse:13055.90723\n",
      "[64]\tvalidation_0-rmse:10359.94141\tvalidation_1-rmse:13052.04883\n",
      "[65]\tvalidation_0-rmse:10359.00391\tvalidation_1-rmse:13051.35254\n",
      "[66]\tvalidation_0-rmse:10357.70703\tvalidation_1-rmse:13050.32031\n",
      "[67]\tvalidation_0-rmse:10353.56836\tvalidation_1-rmse:13045.15918\n",
      "[68]\tvalidation_0-rmse:10352.52441\tvalidation_1-rmse:13044.81445\n",
      "[69]\tvalidation_0-rmse:10347.91406\tvalidation_1-rmse:13039.30762\n",
      "[70]\tvalidation_0-rmse:10347.10156\tvalidation_1-rmse:13039.01660\n",
      "[71]\tvalidation_0-rmse:10345.07324\tvalidation_1-rmse:13038.62012\n",
      "[72]\tvalidation_0-rmse:10343.43262\tvalidation_1-rmse:13036.83301\n",
      "[73]\tvalidation_0-rmse:10343.24512\tvalidation_1-rmse:13036.93652\n",
      "[74]\tvalidation_0-rmse:10342.98926\tvalidation_1-rmse:13037.27930\n",
      "[75]\tvalidation_0-rmse:10341.89844\tvalidation_1-rmse:13036.78711\n",
      "[76]\tvalidation_0-rmse:10340.08887\tvalidation_1-rmse:13035.91309\n",
      "[77]\tvalidation_0-rmse:10339.62207\tvalidation_1-rmse:13036.16894\n",
      "[78]\tvalidation_0-rmse:10338.83594\tvalidation_1-rmse:13035.89062\n",
      "[79]\tvalidation_0-rmse:10336.17090\tvalidation_1-rmse:13035.01074\n",
      "[80]\tvalidation_0-rmse:10335.37012\tvalidation_1-rmse:13034.37500\n",
      "[81]\tvalidation_0-rmse:10334.37402\tvalidation_1-rmse:13033.82324\n",
      "[82]\tvalidation_0-rmse:10333.02344\tvalidation_1-rmse:13033.20410\n",
      "[83]\tvalidation_0-rmse:10331.80176\tvalidation_1-rmse:13033.45312\n",
      "[84]\tvalidation_0-rmse:10330.20508\tvalidation_1-rmse:13032.81738\n",
      "[85]\tvalidation_0-rmse:10328.89648\tvalidation_1-rmse:13032.24902\n",
      "[86]\tvalidation_0-rmse:10327.75977\tvalidation_1-rmse:13032.02441\n",
      "[87]\tvalidation_0-rmse:10326.74121\tvalidation_1-rmse:13031.44727\n",
      "[88]\tvalidation_0-rmse:10325.49902\tvalidation_1-rmse:13031.19434\n",
      "[89]\tvalidation_0-rmse:10325.14453\tvalidation_1-rmse:13030.90430\n",
      "[90]\tvalidation_0-rmse:10324.06152\tvalidation_1-rmse:13030.41894\n",
      "[91]\tvalidation_0-rmse:10323.61621\tvalidation_1-rmse:13030.48828\n",
      "[92]\tvalidation_0-rmse:10322.69336\tvalidation_1-rmse:13029.92188\n",
      "[93]\tvalidation_0-rmse:10321.62500\tvalidation_1-rmse:13029.88769\n",
      "[94]\tvalidation_0-rmse:10320.93066\tvalidation_1-rmse:13030.43750\n",
      "[95]\tvalidation_0-rmse:10320.15430\tvalidation_1-rmse:13030.21191\n",
      "[96]\tvalidation_0-rmse:10319.51856\tvalidation_1-rmse:13030.10644\n",
      "[97]\tvalidation_0-rmse:10318.62598\tvalidation_1-rmse:13030.46094\n",
      "[98]\tvalidation_0-rmse:10317.19336\tvalidation_1-rmse:13029.68945\n",
      "[99]\tvalidation_0-rmse:10316.63574\tvalidation_1-rmse:13029.04883\n",
      "[100]\tvalidation_0-rmse:10316.39160\tvalidation_1-rmse:13029.27246\n",
      "[101]\tvalidation_0-rmse:10316.12207\tvalidation_1-rmse:13028.99219\n",
      "[102]\tvalidation_0-rmse:10315.97852\tvalidation_1-rmse:13029.16016\n",
      "[103]\tvalidation_0-rmse:10315.41113\tvalidation_1-rmse:13029.02441\n",
      "[104]\tvalidation_0-rmse:10315.13477\tvalidation_1-rmse:13028.46680\n",
      "[105]\tvalidation_0-rmse:10315.04102\tvalidation_1-rmse:13028.66797\n",
      "[106]\tvalidation_0-rmse:10314.49219\tvalidation_1-rmse:13028.68848\n",
      "[107]\tvalidation_0-rmse:10313.51269\tvalidation_1-rmse:13027.58398\n",
      "[108]\tvalidation_0-rmse:10312.73535\tvalidation_1-rmse:13027.04981\n",
      "[109]\tvalidation_0-rmse:10312.04688\tvalidation_1-rmse:13026.97070\n",
      "[110]\tvalidation_0-rmse:10311.45117\tvalidation_1-rmse:13026.73731\n",
      "[111]\tvalidation_0-rmse:10311.16016\tvalidation_1-rmse:13026.72266\n",
      "[112]\tvalidation_0-rmse:10310.82422\tvalidation_1-rmse:13026.82129\n",
      "[113]\tvalidation_0-rmse:10310.11035\tvalidation_1-rmse:13026.76953\n",
      "[114]\tvalidation_0-rmse:10309.34277\tvalidation_1-rmse:13025.87598\n",
      "[115]\tvalidation_0-rmse:10309.24805\tvalidation_1-rmse:13026.15332\n",
      "[116]\tvalidation_0-rmse:10308.95215\tvalidation_1-rmse:13026.28516\n",
      "[117]\tvalidation_0-rmse:10308.38477\tvalidation_1-rmse:13025.24805\n",
      "[118]\tvalidation_0-rmse:10308.08496\tvalidation_1-rmse:13025.11231\n",
      "[119]\tvalidation_0-rmse:10307.30664\tvalidation_1-rmse:13024.56738\n",
      "[120]\tvalidation_0-rmse:10307.05566\tvalidation_1-rmse:13024.55566\n",
      "[121]\tvalidation_0-rmse:10306.80957\tvalidation_1-rmse:13024.92676\n",
      "[122]\tvalidation_0-rmse:10306.59473\tvalidation_1-rmse:13024.93945\n",
      "[123]\tvalidation_0-rmse:10305.76269\tvalidation_1-rmse:13023.91992\n"
     ]
    },
    {
     "name": "stdout",
     "output_type": "stream",
     "text": [
      "[124]\tvalidation_0-rmse:10305.62598\tvalidation_1-rmse:13024.18652\n",
      "[125]\tvalidation_0-rmse:10305.22168\tvalidation_1-rmse:13024.09375\n",
      "[126]\tvalidation_0-rmse:10304.99707\tvalidation_1-rmse:13024.06250\n",
      "[127]\tvalidation_0-rmse:10304.39941\tvalidation_1-rmse:13023.99805\n",
      "[128]\tvalidation_0-rmse:10304.31738\tvalidation_1-rmse:13023.98926\n",
      "[129]\tvalidation_0-rmse:10304.25488\tvalidation_1-rmse:13024.04981\n",
      "[130]\tvalidation_0-rmse:10304.15820\tvalidation_1-rmse:13024.11231\n",
      "[131]\tvalidation_0-rmse:10303.87109\tvalidation_1-rmse:13024.12207\n",
      "[132]\tvalidation_0-rmse:10303.71191\tvalidation_1-rmse:13024.65820\n",
      "[133]\tvalidation_0-rmse:10303.49414\tvalidation_1-rmse:13024.97070\n",
      "[134]\tvalidation_0-rmse:10302.97559\tvalidation_1-rmse:13024.54492\n",
      "[135]\tvalidation_0-rmse:10302.56543\tvalidation_1-rmse:13024.86328\n",
      "[136]\tvalidation_0-rmse:10302.28906\tvalidation_1-rmse:13024.85742\n",
      "[137]\tvalidation_0-rmse:10302.17188\tvalidation_1-rmse:13024.87695\n",
      "[138]\tvalidation_0-rmse:10301.96289\tvalidation_1-rmse:13024.92383\n",
      "[139]\tvalidation_0-rmse:10301.64453\tvalidation_1-rmse:13024.79004\n",
      "[140]\tvalidation_0-rmse:10301.33496\tvalidation_1-rmse:13024.71094\n",
      "[141]\tvalidation_0-rmse:10301.20117\tvalidation_1-rmse:13024.84570\n",
      "[142]\tvalidation_0-rmse:10301.15723\tvalidation_1-rmse:13024.95117\n",
      "[143]\tvalidation_0-rmse:10300.63867\tvalidation_1-rmse:13024.31543\n",
      "[144]\tvalidation_0-rmse:10300.41894\tvalidation_1-rmse:13024.29004\n",
      "[145]\tvalidation_0-rmse:10300.38672\tvalidation_1-rmse:13024.41016\n",
      "[146]\tvalidation_0-rmse:10300.13672\tvalidation_1-rmse:13024.10156\n",
      "[147]\tvalidation_0-rmse:10299.96875\tvalidation_1-rmse:13024.34863\n",
      "[148]\tvalidation_0-rmse:10299.42773\tvalidation_1-rmse:13023.59277\n",
      "[149]\tvalidation_0-rmse:10299.15527\tvalidation_1-rmse:13023.45508\n",
      "[150]\tvalidation_0-rmse:10298.97266\tvalidation_1-rmse:13023.46777\n",
      "[151]\tvalidation_0-rmse:10298.76562\tvalidation_1-rmse:13024.03418\n",
      "[152]\tvalidation_0-rmse:10298.75391\tvalidation_1-rmse:13024.00098\n",
      "[153]\tvalidation_0-rmse:10298.58594\tvalidation_1-rmse:13024.21582\n",
      "[154]\tvalidation_0-rmse:10298.51562\tvalidation_1-rmse:13024.05957\n",
      "[155]\tvalidation_0-rmse:10298.32422\tvalidation_1-rmse:13024.16797\n",
      "[156]\tvalidation_0-rmse:10298.22070\tvalidation_1-rmse:13024.14844\n",
      "[157]\tvalidation_0-rmse:10298.14453\tvalidation_1-rmse:13024.33984\n",
      "[158]\tvalidation_0-rmse:10297.72461\tvalidation_1-rmse:13023.93750\n",
      "[159]\tvalidation_0-rmse:10297.34082\tvalidation_1-rmse:13023.39941\n",
      "[160]\tvalidation_0-rmse:10297.09473\tvalidation_1-rmse:13023.27148\n",
      "[161]\tvalidation_0-rmse:10297.04297\tvalidation_1-rmse:13023.39356\n",
      "[162]\tvalidation_0-rmse:10296.90527\tvalidation_1-rmse:13023.31543\n",
      "[163]\tvalidation_0-rmse:10296.72949\tvalidation_1-rmse:13023.12988\n",
      "[164]\tvalidation_0-rmse:10296.47461\tvalidation_1-rmse:13022.83301\n",
      "[165]\tvalidation_0-rmse:10296.20117\tvalidation_1-rmse:13022.58496\n",
      "[166]\tvalidation_0-rmse:10296.10059\tvalidation_1-rmse:13022.72559\n",
      "[167]\tvalidation_0-rmse:10295.89551\tvalidation_1-rmse:13022.60352\n",
      "[168]\tvalidation_0-rmse:10295.80957\tvalidation_1-rmse:13022.56348\n",
      "[169]\tvalidation_0-rmse:10295.71094\tvalidation_1-rmse:13022.66211\n",
      "[170]\tvalidation_0-rmse:10295.57812\tvalidation_1-rmse:13022.46387\n",
      "[171]\tvalidation_0-rmse:10295.39844\tvalidation_1-rmse:13022.33496\n",
      "[172]\tvalidation_0-rmse:10295.37598\tvalidation_1-rmse:13022.37109\n",
      "[173]\tvalidation_0-rmse:10295.33398\tvalidation_1-rmse:13022.50684\n",
      "[174]\tvalidation_0-rmse:10295.31934\tvalidation_1-rmse:13022.48828\n",
      "[175]\tvalidation_0-rmse:10295.29688\tvalidation_1-rmse:13022.61328\n",
      "[176]\tvalidation_0-rmse:10295.22461\tvalidation_1-rmse:13022.50781\n",
      "[177]\tvalidation_0-rmse:10295.17676\tvalidation_1-rmse:13022.57715\n",
      "[178]\tvalidation_0-rmse:10295.10059\tvalidation_1-rmse:13022.50879\n",
      "[179]\tvalidation_0-rmse:10294.89844\tvalidation_1-rmse:13022.63086\n",
      "[180]\tvalidation_0-rmse:10294.69141\tvalidation_1-rmse:13022.49512\n",
      "[181]\tvalidation_0-rmse:10294.54688\tvalidation_1-rmse:13022.72559\n",
      "[182]\tvalidation_0-rmse:10294.41894\tvalidation_1-rmse:13022.58789\n",
      "[183]\tvalidation_0-rmse:10294.31934\tvalidation_1-rmse:13022.32324\n",
      "[184]\tvalidation_0-rmse:10294.17188\tvalidation_1-rmse:13022.43359\n",
      "[185]\tvalidation_0-rmse:10294.08496\tvalidation_1-rmse:13022.20996\n",
      "[186]\tvalidation_0-rmse:10293.96680\tvalidation_1-rmse:13022.22852\n",
      "[187]\tvalidation_0-rmse:10293.89258\tvalidation_1-rmse:13022.25195\n",
      "[188]\tvalidation_0-rmse:10293.87988\tvalidation_1-rmse:13022.37012\n",
      "[189]\tvalidation_0-rmse:10293.80371\tvalidation_1-rmse:13022.34668\n",
      "[190]\tvalidation_0-rmse:10293.79785\tvalidation_1-rmse:13022.36328\n",
      "[191]\tvalidation_0-rmse:10293.70801\tvalidation_1-rmse:13022.34668\n",
      "[192]\tvalidation_0-rmse:10293.57324\tvalidation_1-rmse:13022.37598\n",
      "[193]\tvalidation_0-rmse:10293.51758\tvalidation_1-rmse:13022.32715\n",
      "[194]\tvalidation_0-rmse:10293.42676\tvalidation_1-rmse:13022.30469\n",
      "[195]\tvalidation_0-rmse:10293.34375\tvalidation_1-rmse:13022.27734\n",
      "[196]\tvalidation_0-rmse:10293.18359\tvalidation_1-rmse:13022.45508\n",
      "[197]\tvalidation_0-rmse:10293.15820\tvalidation_1-rmse:13022.37695\n",
      "[198]\tvalidation_0-rmse:10293.04981\tvalidation_1-rmse:13022.47363\n",
      "[199]\tvalidation_0-rmse:10292.98144\tvalidation_1-rmse:13022.69434\n",
      "[200]\tvalidation_0-rmse:10292.92871\tvalidation_1-rmse:13022.70117\n",
      "[201]\tvalidation_0-rmse:10292.88769\tvalidation_1-rmse:13022.61231\n",
      "[202]\tvalidation_0-rmse:10292.87402\tvalidation_1-rmse:13022.59473\n",
      "[203]\tvalidation_0-rmse:10292.83203\tvalidation_1-rmse:13022.78613\n",
      "[204]\tvalidation_0-rmse:10292.77930\tvalidation_1-rmse:13023.00098\n",
      "[205]\tvalidation_0-rmse:10292.75195\tvalidation_1-rmse:13022.92871\n",
      "[206]\tvalidation_0-rmse:10292.73340\tvalidation_1-rmse:13022.98047\n",
      "[207]\tvalidation_0-rmse:10292.59082\tvalidation_1-rmse:13022.83008\n",
      "[208]\tvalidation_0-rmse:10292.51856\tvalidation_1-rmse:13022.81641\n",
      "[209]\tvalidation_0-rmse:10292.50000\tvalidation_1-rmse:13022.82031\n",
      "[210]\tvalidation_0-rmse:10292.45215\tvalidation_1-rmse:13022.86426\n",
      "[211]\tvalidation_0-rmse:10292.40137\tvalidation_1-rmse:13022.93945\n",
      "[212]\tvalidation_0-rmse:10292.35644\tvalidation_1-rmse:13023.00098\n",
      "[213]\tvalidation_0-rmse:10292.32812\tvalidation_1-rmse:13023.06152\n",
      "[214]\tvalidation_0-rmse:10292.31836\tvalidation_1-rmse:13023.04981\n",
      "[215]\tvalidation_0-rmse:10292.21289\tvalidation_1-rmse:13022.96191\n",
      "[216]\tvalidation_0-rmse:10292.15430\tvalidation_1-rmse:13022.90527\n",
      "[217]\tvalidation_0-rmse:10292.13574\tvalidation_1-rmse:13022.94434\n",
      "[218]\tvalidation_0-rmse:10292.11816\tvalidation_1-rmse:13022.95312\n",
      "[219]\tvalidation_0-rmse:10292.07715\tvalidation_1-rmse:13022.84766\n",
      "[220]\tvalidation_0-rmse:10292.02832\tvalidation_1-rmse:13022.95898\n",
      "[221]\tvalidation_0-rmse:10292.02051\tvalidation_1-rmse:13022.98242\n",
      "[222]\tvalidation_0-rmse:10292.00391\tvalidation_1-rmse:13022.97363\n",
      "[223]\tvalidation_0-rmse:10291.97559\tvalidation_1-rmse:13022.87109\n",
      "[224]\tvalidation_0-rmse:10291.96973\tvalidation_1-rmse:13022.89941\n",
      "[225]\tvalidation_0-rmse:10291.96289\tvalidation_1-rmse:13022.90820\n",
      "[226]\tvalidation_0-rmse:10291.94434\tvalidation_1-rmse:13022.93457\n",
      "[227]\tvalidation_0-rmse:10291.90234\tvalidation_1-rmse:13022.82227\n",
      "[228]\tvalidation_0-rmse:10291.89844\tvalidation_1-rmse:13022.81934\n",
      "[229]\tvalidation_0-rmse:10291.81152\tvalidation_1-rmse:13022.76856\n",
      "[230]\tvalidation_0-rmse:10291.78516\tvalidation_1-rmse:13022.74707\n",
      "[231]\tvalidation_0-rmse:10291.75977\tvalidation_1-rmse:13022.76953\n",
      "[232]\tvalidation_0-rmse:10291.73438\tvalidation_1-rmse:13022.82324\n",
      "[233]\tvalidation_0-rmse:10291.65820\tvalidation_1-rmse:13022.83301\n",
      "[234]\tvalidation_0-rmse:10291.59082\tvalidation_1-rmse:13022.83691\n",
      "[235]\tvalidation_0-rmse:10291.57715\tvalidation_1-rmse:13022.78223\n"
     ]
    },
    {
     "data": {
      "text/plain": [
       "XGBRegressor(base_score=0.5, booster='gbtree', colsample_bylevel=1,\n",
       "             colsample_bynode=1, colsample_bytree=1, gamma=0, gpu_id=-1,\n",
       "             importance_type='gain', interaction_constraints='',\n",
       "             learning_rate=0.300000012, max_delta_step=0, max_depth=6,\n",
       "             min_child_weight=1, missing=nan, monotone_constraints='()',\n",
       "             n_estimators=1000, n_jobs=8, num_parallel_tree=1,\n",
       "             objective='reg:linear', random_state=0, reg_alpha=0, reg_lambda=1,\n",
       "             scale_pos_weight=1, subsample=1, tree_method='exact',\n",
       "             validate_parameters=1, verbosity=None)"
      ]
     },
     "execution_count": 81,
     "metadata": {},
     "output_type": "execute_result"
    }
   ],
   "source": [
    "xgb.fit(X_train,Y_train,eval_set=[(X_train,Y_train),(X_val,Y_val)],early_stopping_rounds=50,verbose=True)"
   ]
  },
  {
   "cell_type": "markdown",
   "id": "c48c90d4",
   "metadata": {},
   "source": [
    "### Prediction"
   ]
  },
  {
   "cell_type": "code",
   "execution_count": 82,
   "id": "8c493964",
   "metadata": {},
   "outputs": [
    {
     "data": {
      "text/plain": [
       "array([43782.01 , 69093.82 , 50222.816, ..., 25204.87 , 40596.742,\n",
       "       24856.074], dtype=float32)"
      ]
     },
     "execution_count": 82,
     "metadata": {},
     "output_type": "execute_result"
    }
   ],
   "source": [
    "pred_val_res = xgb.predict(X_val)\n",
    "pred_val_res"
   ]
  },
  {
   "cell_type": "code",
   "execution_count": 83,
   "id": "3f7bf90c",
   "metadata": {},
   "outputs": [
    {
     "data": {
      "text/plain": [
       "0.11875210935319848"
      ]
     },
     "execution_count": 83,
     "metadata": {},
     "output_type": "execute_result"
    }
   ],
   "source": [
    "## Evaluation using Mean Squared Log Error\n",
    "mean_squared_log_error(Y_val,pred_val_res)"
   ]
  },
  {
   "cell_type": "code",
   "execution_count": 87,
   "id": "01ef4b13",
   "metadata": {},
   "outputs": [],
   "source": [
    "pred_test = xgb.predict(test_data.drop(columns='ID'))"
   ]
  },
  {
   "cell_type": "code",
   "execution_count": 88,
   "id": "5d4921a7",
   "metadata": {
    "scrolled": true
   },
   "outputs": [
    {
     "data": {
      "text/plain": [
       "array([47994.652, 36201.727, 70782.586, ..., 47936.2  , 32081.922,\n",
       "       24893.174], dtype=float32)"
      ]
     },
     "execution_count": 88,
     "metadata": {},
     "output_type": "execute_result"
    }
   ],
   "source": [
    "pred_test"
   ]
  },
  {
   "cell_type": "code",
   "execution_count": 92,
   "id": "eaca0cc3",
   "metadata": {},
   "outputs": [
    {
     "data": {
      "text/html": [
       "<div>\n",
       "<style scoped>\n",
       "    .dataframe tbody tr th:only-of-type {\n",
       "        vertical-align: middle;\n",
       "    }\n",
       "\n",
       "    .dataframe tbody tr th {\n",
       "        vertical-align: top;\n",
       "    }\n",
       "\n",
       "    .dataframe thead th {\n",
       "        text-align: right;\n",
       "    }\n",
       "</style>\n",
       "<table border=\"1\" class=\"dataframe\">\n",
       "  <thead>\n",
       "    <tr style=\"text-align: right;\">\n",
       "      <th></th>\n",
       "      <th>ID</th>\n",
       "      <th>Store_id</th>\n",
       "      <th>Store_Type</th>\n",
       "      <th>Location_Type</th>\n",
       "      <th>Region_Code</th>\n",
       "      <th>Holiday</th>\n",
       "      <th>Discount_Yes</th>\n",
       "    </tr>\n",
       "    <tr>\n",
       "      <th>Date</th>\n",
       "      <th></th>\n",
       "      <th></th>\n",
       "      <th></th>\n",
       "      <th></th>\n",
       "      <th></th>\n",
       "      <th></th>\n",
       "      <th></th>\n",
       "    </tr>\n",
       "  </thead>\n",
       "  <tbody>\n",
       "    <tr>\n",
       "      <th>2019-06-01</th>\n",
       "      <td>T1188341</td>\n",
       "      <td>171</td>\n",
       "      <td>1</td>\n",
       "      <td>5</td>\n",
       "      <td>3</td>\n",
       "      <td>0</td>\n",
       "      <td>0</td>\n",
       "    </tr>\n",
       "    <tr>\n",
       "      <th>2019-06-01</th>\n",
       "      <td>T1188342</td>\n",
       "      <td>172</td>\n",
       "      <td>3</td>\n",
       "      <td>4</td>\n",
       "      <td>4</td>\n",
       "      <td>0</td>\n",
       "      <td>0</td>\n",
       "    </tr>\n",
       "    <tr>\n",
       "      <th>2019-06-01</th>\n",
       "      <td>T1188343</td>\n",
       "      <td>173</td>\n",
       "      <td>1</td>\n",
       "      <td>5</td>\n",
       "      <td>4</td>\n",
       "      <td>0</td>\n",
       "      <td>0</td>\n",
       "    </tr>\n",
       "    <tr>\n",
       "      <th>2019-06-01</th>\n",
       "      <td>T1188344</td>\n",
       "      <td>174</td>\n",
       "      <td>3</td>\n",
       "      <td>4</td>\n",
       "      <td>1</td>\n",
       "      <td>0</td>\n",
       "      <td>0</td>\n",
       "    </tr>\n",
       "    <tr>\n",
       "      <th>2019-06-01</th>\n",
       "      <td>T1188345</td>\n",
       "      <td>170</td>\n",
       "      <td>3</td>\n",
       "      <td>4</td>\n",
       "      <td>2</td>\n",
       "      <td>0</td>\n",
       "      <td>0</td>\n",
       "    </tr>\n",
       "    <tr>\n",
       "      <th>...</th>\n",
       "      <td>...</td>\n",
       "      <td>...</td>\n",
       "      <td>...</td>\n",
       "      <td>...</td>\n",
       "      <td>...</td>\n",
       "      <td>...</td>\n",
       "      <td>...</td>\n",
       "    </tr>\n",
       "    <tr>\n",
       "      <th>2019-07-31</th>\n",
       "      <td>T1210601</td>\n",
       "      <td>186</td>\n",
       "      <td>4</td>\n",
       "      <td>1</td>\n",
       "      <td>2</td>\n",
       "      <td>0</td>\n",
       "      <td>0</td>\n",
       "    </tr>\n",
       "    <tr>\n",
       "      <th>2019-07-31</th>\n",
       "      <td>T1210602</td>\n",
       "      <td>11</td>\n",
       "      <td>1</td>\n",
       "      <td>5</td>\n",
       "      <td>4</td>\n",
       "      <td>0</td>\n",
       "      <td>0</td>\n",
       "    </tr>\n",
       "    <tr>\n",
       "      <th>2019-07-31</th>\n",
       "      <td>T1210603</td>\n",
       "      <td>185</td>\n",
       "      <td>3</td>\n",
       "      <td>4</td>\n",
       "      <td>3</td>\n",
       "      <td>0</td>\n",
       "      <td>1</td>\n",
       "    </tr>\n",
       "    <tr>\n",
       "      <th>2019-07-31</th>\n",
       "      <td>T1210604</td>\n",
       "      <td>69</td>\n",
       "      <td>3</td>\n",
       "      <td>4</td>\n",
       "      <td>1</td>\n",
       "      <td>0</td>\n",
       "      <td>0</td>\n",
       "    </tr>\n",
       "    <tr>\n",
       "      <th>2019-07-31</th>\n",
       "      <td>T1210605</td>\n",
       "      <td>365</td>\n",
       "      <td>4</td>\n",
       "      <td>4</td>\n",
       "      <td>2</td>\n",
       "      <td>0</td>\n",
       "      <td>0</td>\n",
       "    </tr>\n",
       "  </tbody>\n",
       "</table>\n",
       "<p>22265 rows × 7 columns</p>\n",
       "</div>"
      ],
      "text/plain": [
       "                  ID  Store_id  Store_Type  Location_Type  Region_Code  Holiday  Discount_Yes\n",
       "Date                                                                                         \n",
       "2019-06-01  T1188341       171           1              5            3        0             0\n",
       "2019-06-01  T1188342       172           3              4            4        0             0\n",
       "2019-06-01  T1188343       173           1              5            4        0             0\n",
       "2019-06-01  T1188344       174           3              4            1        0             0\n",
       "2019-06-01  T1188345       170           3              4            2        0             0\n",
       "...              ...       ...         ...            ...          ...      ...           ...\n",
       "2019-07-31  T1210601       186           4              1            2        0             0\n",
       "2019-07-31  T1210602        11           1              5            4        0             0\n",
       "2019-07-31  T1210603       185           3              4            3        0             1\n",
       "2019-07-31  T1210604        69           3              4            1        0             0\n",
       "2019-07-31  T1210605       365           4              4            2        0             0\n",
       "\n",
       "[22265 rows x 7 columns]"
      ]
     },
     "execution_count": 92,
     "metadata": {},
     "output_type": "execute_result"
    }
   ],
   "source": [
    "test_data"
   ]
  },
  {
   "cell_type": "markdown",
   "id": "62f7337f",
   "metadata": {},
   "source": [
    "### Preparing Submissions"
   ]
  },
  {
   "cell_type": "code",
   "execution_count": 89,
   "id": "3bf7b975",
   "metadata": {},
   "outputs": [],
   "source": [
    "submission = pd.read_csv(r'C:\\Users\\1449415\\Analytics\\Projects\\AV_hackathon\\Data\\Sample.csv')"
   ]
  },
  {
   "cell_type": "code",
   "execution_count": 90,
   "id": "a75c23b3",
   "metadata": {},
   "outputs": [
    {
     "data": {
      "text/html": [
       "<div>\n",
       "<style scoped>\n",
       "    .dataframe tbody tr th:only-of-type {\n",
       "        vertical-align: middle;\n",
       "    }\n",
       "\n",
       "    .dataframe tbody tr th {\n",
       "        vertical-align: top;\n",
       "    }\n",
       "\n",
       "    .dataframe thead th {\n",
       "        text-align: right;\n",
       "    }\n",
       "</style>\n",
       "<table border=\"1\" class=\"dataframe\">\n",
       "  <thead>\n",
       "    <tr style=\"text-align: right;\">\n",
       "      <th></th>\n",
       "      <th>ID</th>\n",
       "      <th>Sales</th>\n",
       "    </tr>\n",
       "  </thead>\n",
       "  <tbody>\n",
       "    <tr>\n",
       "      <th>0</th>\n",
       "      <td>T1188341</td>\n",
       "      <td>42275</td>\n",
       "    </tr>\n",
       "    <tr>\n",
       "      <th>1</th>\n",
       "      <td>T1188342</td>\n",
       "      <td>42275</td>\n",
       "    </tr>\n",
       "    <tr>\n",
       "      <th>2</th>\n",
       "      <td>T1188343</td>\n",
       "      <td>42275</td>\n",
       "    </tr>\n",
       "    <tr>\n",
       "      <th>3</th>\n",
       "      <td>T1188344</td>\n",
       "      <td>42275</td>\n",
       "    </tr>\n",
       "    <tr>\n",
       "      <th>4</th>\n",
       "      <td>T1188345</td>\n",
       "      <td>42275</td>\n",
       "    </tr>\n",
       "  </tbody>\n",
       "</table>\n",
       "</div>"
      ],
      "text/plain": [
       "         ID  Sales\n",
       "0  T1188341  42275\n",
       "1  T1188342  42275\n",
       "2  T1188343  42275\n",
       "3  T1188344  42275\n",
       "4  T1188345  42275"
      ]
     },
     "execution_count": 90,
     "metadata": {},
     "output_type": "execute_result"
    }
   ],
   "source": [
    "submission.head()"
   ]
  },
  {
   "cell_type": "code",
   "execution_count": 93,
   "id": "abc1a09a",
   "metadata": {},
   "outputs": [],
   "source": [
    "submission['Sales'] = pred_test#we've predicted in the same order as required"
   ]
  },
  {
   "cell_type": "code",
   "execution_count": 94,
   "id": "833d4aa2",
   "metadata": {},
   "outputs": [],
   "source": [
    "submission.to_csv(r'C:\\Users\\1449415\\Analytics\\Projects\\AV_hackathon\\Data\\xgb_submission.csv',index=False)"
   ]
  },
  {
   "cell_type": "code",
   "execution_count": null,
   "id": "05e4747e",
   "metadata": {},
   "outputs": [],
   "source": []
  }
 ],
 "metadata": {
  "kernelspec": {
   "display_name": "Python 3",
   "language": "python",
   "name": "python3"
  },
  "language_info": {
   "codemirror_mode": {
    "name": "ipython",
    "version": 3
   },
   "file_extension": ".py",
   "mimetype": "text/x-python",
   "name": "python",
   "nbconvert_exporter": "python",
   "pygments_lexer": "ipython3",
   "version": "3.8.8"
  }
 },
 "nbformat": 4,
 "nbformat_minor": 5
}
